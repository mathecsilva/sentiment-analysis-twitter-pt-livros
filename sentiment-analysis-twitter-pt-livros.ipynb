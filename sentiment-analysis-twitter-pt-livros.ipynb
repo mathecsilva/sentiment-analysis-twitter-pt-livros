{
 "cells": [
  {
   "cell_type": "markdown",
   "metadata": {},
   "source": [
    "### Notebook Goals\n",
    "* O objetivo deste notebook é obter mensagens da rede social Twitter, para analisar o sentimento geral sobre um produto na lingua portuguesa (pt).\n",
    "* Neste caso será considerado o produto 'livros'.\n",
    "* Para esse cálculo será utilizado inteligência artifical com NLP.\n",
    "\n",
    "#### NLP\n",
    "* NLP (Natural Linguage Processing) explora habilidades computacionais para entender e classificar textos."
   ]
  },
  {
   "cell_type": "markdown",
   "metadata": {},
   "source": [
    "##### Data Prep"
   ]
  },
  {
   "cell_type": "code",
   "execution_count": 1,
   "metadata": {},
   "outputs": [],
   "source": [
    "import tweepy\n",
    "import pandas as pd\n",
    "import nltk #Natural Linguage Toolkit"
   ]
  },
  {
   "cell_type": "code",
   "execution_count": 2,
   "metadata": {},
   "outputs": [],
   "source": [
    "#Import text file keys \n",
    "txtKeys = open('ktw.txt', 'r').read().splitlines()\n",
    "api_key = txtKeys[0]\n",
    "api_key_secret = txtKeys[1]\n",
    "api_token = txtKeys[2]\n",
    "api_token_secret = txtKeys[3]"
   ]
  },
  {
   "cell_type": "code",
   "execution_count": 3,
   "metadata": {},
   "outputs": [],
   "source": [
    "#Twitter API authentication \n",
    "auth = tweepy.OAuthHandler(consumer_key=api_key, consumer_secret=api_key_secret)\n",
    "auth.set_access_token(api_token, api_token_secret)\n",
    "api = tweepy.API(auth)"
   ]
  },
  {
   "cell_type": "code",
   "execution_count": 4,
   "metadata": {},
   "outputs": [],
   "source": [
    "#API params\n",
    "search_query = 'livro' + ' -filter:retweets'\n",
    "tweet_amount = 400\n",
    "tweets = tweepy.Cursor(api.search, q=search_query, lang='pt').items(tweet_amount)"
   ]
  },
  {
   "cell_type": "code",
   "execution_count": 5,
   "metadata": {},
   "outputs": [],
   "source": [
    "#Tweets list\n",
    "cols = set()\n",
    "allowed_types = [str, int]\n",
    "tw_data = []\n",
    "\n",
    "for tw in tweets:\n",
    "    tw_dict = dict(vars(tw))\n",
    "    tw_keys = tw_dict.keys()\n",
    "    filter_data = {}\n",
    "    for k in tw_keys:\n",
    "        try:\n",
    "            k_type = type(tw_dict[k])\n",
    "        except:\n",
    "            k_type = None\n",
    "        if k_type != None:\n",
    "            if k_type in allowed_types:\n",
    "                cols.add(k)\n",
    "                filter_data[k] = tw_dict[k]\n",
    "    tw_data.append(filter_data)\n",
    "\n",
    "header_cols = list(cols)\n",
    "#tw_data"
   ]
  },
  {
   "cell_type": "code",
   "execution_count": 6,
   "metadata": {},
   "outputs": [
    {
     "data": {
      "text/plain": [
       "Index(['quoted_status_id', 'in_reply_to_user_id_str', 'id',\n",
       "       'in_reply_to_screen_name', 'retweet_count', 'in_reply_to_status_id',\n",
       "       'id_str', 'quoted_status_id_str', 'lang', 'text', 'favorite_count',\n",
       "       'source_url', 'in_reply_to_user_id', 'source',\n",
       "       'in_reply_to_status_id_str'],\n",
       "      dtype='object')"
      ]
     },
     "execution_count": 6,
     "metadata": {},
     "output_type": "execute_result"
    }
   ],
   "source": [
    "#Tweets Dataframe\n",
    "df = pd.DataFrame(tw_data, columns=header_cols)\n",
    "#df.head()\n",
    "df.columns"
   ]
  },
  {
   "cell_type": "code",
   "execution_count": 7,
   "metadata": {},
   "outputs": [],
   "source": [
    "#Cleaning Data\n",
    "df.drop(['in_reply_to_status_id_str', 'in_reply_to_screen_name',\n",
    "       'in_reply_to_user_id', 'id_str', 'in_reply_to_status_id',\n",
    "       'favorite_count', 'in_reply_to_user_id_str', 'lang', 'source',\n",
    "       'source_url']\n",
    " , inplace=True\n",
    " , axis=1)"
   ]
  },
  {
   "cell_type": "code",
   "execution_count": 8,
   "metadata": {},
   "outputs": [],
   "source": [
    "df = df[['id', 'text', 'retweet_count']]"
   ]
  },
  {
   "cell_type": "code",
   "execution_count": 9,
   "metadata": {},
   "outputs": [
    {
     "data": {
      "text/html": [
       "<div>\n",
       "<style scoped>\n",
       "    .dataframe tbody tr th:only-of-type {\n",
       "        vertical-align: middle;\n",
       "    }\n",
       "\n",
       "    .dataframe tbody tr th {\n",
       "        vertical-align: top;\n",
       "    }\n",
       "\n",
       "    .dataframe thead th {\n",
       "        text-align: right;\n",
       "    }\n",
       "</style>\n",
       "<table border=\"1\" class=\"dataframe\">\n",
       "  <thead>\n",
       "    <tr style=\"text-align: right;\">\n",
       "      <th></th>\n",
       "      <th>id</th>\n",
       "      <th>text</th>\n",
       "      <th>retweet_count</th>\n",
       "    </tr>\n",
       "  </thead>\n",
       "  <tbody>\n",
       "    <tr>\n",
       "      <th>0</th>\n",
       "      <td>1390275657272283136</td>\n",
       "      <td>queria um livro extremamente clichê tipo o jog...</td>\n",
       "      <td>0</td>\n",
       "    </tr>\n",
       "    <tr>\n",
       "      <th>1</th>\n",
       "      <td>1390275638767099904</td>\n",
       "      <td>@yutarlert ler livro da mta preguica nem tem i...</td>\n",
       "      <td>0</td>\n",
       "    </tr>\n",
       "    <tr>\n",
       "      <th>2</th>\n",
       "      <td>1390275626658111490</td>\n",
       "      <td>\"uma vida sem amor é como um ano sem verão\"\\ne...</td>\n",
       "      <td>0</td>\n",
       "    </tr>\n",
       "    <tr>\n",
       "      <th>3</th>\n",
       "      <td>1390275573092659201</td>\n",
       "      <td>📖 Coleção Especial Anne de Green Gables R$29,9...</td>\n",
       "      <td>0</td>\n",
       "    </tr>\n",
       "    <tr>\n",
       "      <th>4</th>\n",
       "      <td>1390275552074928131</td>\n",
       "      <td>@jostenswyer CARALHO QUE BOSTA EU NAO SABIA, E...</td>\n",
       "      <td>0</td>\n",
       "    </tr>\n",
       "  </tbody>\n",
       "</table>\n",
       "</div>"
      ],
      "text/plain": [
       "                    id                                               text  \\\n",
       "0  1390275657272283136  queria um livro extremamente clichê tipo o jog...   \n",
       "1  1390275638767099904  @yutarlert ler livro da mta preguica nem tem i...   \n",
       "2  1390275626658111490  \"uma vida sem amor é como um ano sem verão\"\\ne...   \n",
       "3  1390275573092659201  📖 Coleção Especial Anne de Green Gables R$29,9...   \n",
       "4  1390275552074928131  @jostenswyer CARALHO QUE BOSTA EU NAO SABIA, E...   \n",
       "\n",
       "   retweet_count  \n",
       "0              0  \n",
       "1              0  \n",
       "2              0  \n",
       "3              0  \n",
       "4              0  "
      ]
     },
     "execution_count": 9,
     "metadata": {},
     "output_type": "execute_result"
    }
   ],
   "source": [
    "df.head()"
   ]
  },
  {
   "cell_type": "markdown",
   "metadata": {},
   "source": [
    "##### NLP"
   ]
  },
  {
   "cell_type": "code",
   "execution_count": 10,
   "metadata": {},
   "outputs": [],
   "source": [
    "#Regular Expressions"
   ]
  },
  {
   "cell_type": "code",
   "execution_count": 11,
   "metadata": {},
   "outputs": [],
   "source": [
    "#Stopwords"
   ]
  },
  {
   "cell_type": "code",
   "execution_count": 12,
   "metadata": {},
   "outputs": [],
   "source": [
    "#Stemming"
   ]
  },
  {
   "cell_type": "code",
   "execution_count": 13,
   "metadata": {},
   "outputs": [],
   "source": [
    "#Classification"
   ]
  }
 ],
 "metadata": {
  "celltoolbar": "Raw Cell Format",
  "kernelspec": {
   "display_name": "Python 3",
   "language": "python",
   "name": "python3"
  },
  "language_info": {
   "codemirror_mode": {
    "name": "ipython",
    "version": 3
   },
   "file_extension": ".py",
   "mimetype": "text/x-python",
   "name": "python",
   "nbconvert_exporter": "python",
   "pygments_lexer": "ipython3",
   "version": "3.8.3"
  }
 },
 "nbformat": 4,
 "nbformat_minor": 4
}
