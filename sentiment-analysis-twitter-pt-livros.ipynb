{
 "cells": [
  {
   "cell_type": "markdown",
   "metadata": {},
   "source": [
    "### Notebook Goals\n",
    "* Capturar mensagens da rede social Twitter, para avaliar sentimentos sobre um produto.\n",
    "* Neste caso será considerado o produto 'livros'.\n",
    "* Para esse cálculo será utilizado inteligência artifical com NLP.\n",
    "\n",
    "#### NLP\n",
    "* NLP (Natural Linguage Processing) explora habilidades computacionais para entender e classificar textos."
   ]
  },
  {
   "cell_type": "markdown",
   "metadata": {},
   "source": [
    "##### Data Prep"
   ]
  },
  {
   "cell_type": "code",
   "execution_count": 1,
   "metadata": {},
   "outputs": [],
   "source": [
    "import tweepy\n",
    "import pandas as pd"
   ]
  },
  {
   "cell_type": "code",
   "execution_count": 2,
   "metadata": {},
   "outputs": [],
   "source": [
    "#Import text file keys \n",
    "txtKeys = open('ktw.txt', 'r').read().splitlines()\n",
    "api_key = txtKeys[0]\n",
    "api_key_secret = txtKeys[1]\n",
    "api_token = txtKeys[2]\n",
    "api_token_secret = txtKeys[3]"
   ]
  },
  {
   "cell_type": "code",
   "execution_count": 3,
   "metadata": {},
   "outputs": [],
   "source": [
    "#Twitter API authentication \n",
    "auth = tweepy.OAuthHandler(consumer_key=api_key, consumer_secret=api_key_secret)\n",
    "auth.set_access_token(api_token, api_token_secret)\n",
    "api = tweepy.API(auth)"
   ]
  },
  {
   "cell_type": "code",
   "execution_count": 4,
   "metadata": {},
   "outputs": [],
   "source": [
    "#API params\n",
    "search_query = 'livro' + ' -filter:retweets'\n",
    "tweet_amount = 2000\n",
    "tweets = tweepy.Cursor(api.search, q=search_query, lang='pt', wait_on_rate_limit=True\n",
    "                      ).items(tweet_amount)"
   ]
  },
  {
   "cell_type": "code",
   "execution_count": 5,
   "metadata": {},
   "outputs": [],
   "source": [
    "#Tweets list\n",
    "cols = set()\n",
    "allowed_types = [str, int]\n",
    "tw_data = []\n",
    "\n",
    "for tw in tweets:\n",
    "    tw_dict = dict(vars(tw))\n",
    "    tw_keys = tw_dict.keys()\n",
    "    filter_data = {}\n",
    "    for k in tw_keys:\n",
    "        try:\n",
    "            k_type = type(tw_dict[k])\n",
    "        except:\n",
    "            k_type = None\n",
    "        if k_type != None:\n",
    "            if k_type in allowed_types:\n",
    "                cols.add(k)\n",
    "                filter_data[k] = tw_dict[k]\n",
    "    tw_data.append(filter_data)\n",
    "\n",
    "header_cols = list(cols)\n",
    "#tw_data"
   ]
  },
  {
   "cell_type": "code",
   "execution_count": 6,
   "metadata": {},
   "outputs": [
    {
     "data": {
      "text/plain": [
       "Index(['favorite_count', 'source', 'in_reply_to_screen_name',\n",
       "       'quoted_status_id', 'text', 'in_reply_to_user_id',\n",
       "       'in_reply_to_status_id_str', 'id', 'source_url', 'retweet_count',\n",
       "       'in_reply_to_status_id', 'in_reply_to_user_id_str', 'id_str', 'lang',\n",
       "       'quoted_status_id_str'],\n",
       "      dtype='object')"
      ]
     },
     "execution_count": 6,
     "metadata": {},
     "output_type": "execute_result"
    }
   ],
   "source": [
    "#Tweets Dataframe\n",
    "df = pd.DataFrame(tw_data, columns=header_cols)\n",
    "#df.head()\n",
    "df.columns"
   ]
  },
  {
   "cell_type": "code",
   "execution_count": 7,
   "metadata": {},
   "outputs": [],
   "source": [
    "#Cleaning Data\n",
    "df.drop(['in_reply_to_screen_name', 'source_url', 'in_reply_to_user_id_str', 'in_reply_to_status_id_str', 'favorite_count', 'quoted_status_id_str', 'lang', 'in_reply_to_user_id', 'quoted_status_id',\n",
    "         'id_str', 'source', 'in_reply_to_status_id']\n",
    "        , inplace=True\n",
    "        , axis=1)"
   ]
  },
  {
   "cell_type": "code",
   "execution_count": 8,
   "metadata": {},
   "outputs": [],
   "source": [
    "df = df[['id', 'text', 'retweet_count']]"
   ]
  },
  {
   "cell_type": "code",
   "execution_count": 9,
   "metadata": {},
   "outputs": [
    {
     "data": {
      "text/html": [
       "<div>\n",
       "<style scoped>\n",
       "    .dataframe tbody tr th:only-of-type {\n",
       "        vertical-align: middle;\n",
       "    }\n",
       "\n",
       "    .dataframe tbody tr th {\n",
       "        vertical-align: top;\n",
       "    }\n",
       "\n",
       "    .dataframe thead th {\n",
       "        text-align: right;\n",
       "    }\n",
       "</style>\n",
       "<table border=\"1\" class=\"dataframe\">\n",
       "  <thead>\n",
       "    <tr style=\"text-align: right;\">\n",
       "      <th></th>\n",
       "      <th>id</th>\n",
       "      <th>text</th>\n",
       "      <th>retweet_count</th>\n",
       "    </tr>\n",
       "  </thead>\n",
       "  <tbody>\n",
       "    <tr>\n",
       "      <th>987</th>\n",
       "      <td>1401253652480892931</td>\n",
       "      <td>larissa manoela booktt SARAH TE AMAMOS YIXING ...</td>\n",
       "      <td>28</td>\n",
       "    </tr>\n",
       "    <tr>\n",
       "      <th>914</th>\n",
       "      <td>1401254485696073734</td>\n",
       "      <td>\"COMO A ANSIEDADE PODE AMEAÇAR SEU RELACIONAME...</td>\n",
       "      <td>26</td>\n",
       "    </tr>\n",
       "    <tr>\n",
       "      <th>127</th>\n",
       "      <td>1401263396566319114</td>\n",
       "      <td>joão pessoa maquiagem açaí caraio maconha UFSC...</td>\n",
       "      <td>16</td>\n",
       "    </tr>\n",
       "    <tr>\n",
       "      <th>1802</th>\n",
       "      <td>1401245298815647746</td>\n",
       "      <td>@votebybelieber Abc joão pessoa maquiagem açaí...</td>\n",
       "      <td>15</td>\n",
       "    </tr>\n",
       "    <tr>\n",
       "      <th>838</th>\n",
       "      <td>1401255184634978311</td>\n",
       "      <td>larissa manoela booktt SARAH TE AMAMOS YIXING ...</td>\n",
       "      <td>13</td>\n",
       "    </tr>\n",
       "  </tbody>\n",
       "</table>\n",
       "</div>"
      ],
      "text/plain": [
       "                       id                                               text  \\\n",
       "987   1401253652480892931  larissa manoela booktt SARAH TE AMAMOS YIXING ...   \n",
       "914   1401254485696073734  \"COMO A ANSIEDADE PODE AMEAÇAR SEU RELACIONAME...   \n",
       "127   1401263396566319114  joão pessoa maquiagem açaí caraio maconha UFSC...   \n",
       "1802  1401245298815647746  @votebybelieber Abc joão pessoa maquiagem açaí...   \n",
       "838   1401255184634978311  larissa manoela booktt SARAH TE AMAMOS YIXING ...   \n",
       "\n",
       "      retweet_count  \n",
       "987              28  \n",
       "914              26  \n",
       "127              16  \n",
       "1802             15  \n",
       "838              13  "
      ]
     },
     "execution_count": 9,
     "metadata": {},
     "output_type": "execute_result"
    }
   ],
   "source": [
    "#Sample by retweets count\n",
    "df.sort_values('retweet_count', ascending=False).head()"
   ]
  },
  {
   "cell_type": "code",
   "execution_count": 10,
   "metadata": {},
   "outputs": [
    {
     "data": {
      "image/png": "[encoded data removed]",
      "text/plain": [
       "<Figure size 432x288 with 1 Axes>"
      ]
     },
     "metadata": {
      "needs_background": "light"
     },
     "output_type": "display_data"
    }
   ],
   "source": [
    "#Wordcloud by retweets count\n",
    "import matplotlib.pyplot as plt\n",
    "from wordcloud import WordCloud, ImageColorGenerator\n",
    "\n",
    "wordcloud = WordCloud().generate(df.text[3])\n",
    "\n",
    "plt.imshow(wordcloud, interpolation='bilinear')\n",
    "plt.axis(\"off\")\n",
    "plt.show()"
   ]
  },
  {
   "cell_type": "markdown",
   "metadata": {},
   "source": [
    "##### NLP"
   ]
  },
  {
   "cell_type": "code",
   "execution_count": 11,
   "metadata": {},
   "outputs": [],
   "source": [
    "import re #Regulary Expretions\n",
    "import nltk #Natural Linguage Toolkit\n",
    "from nltk import tokenize\n",
    "from nltk import word_tokenize\n",
    "from nltk.corpus import stopwords"
   ]
  },
  {
   "cell_type": "code",
   "execution_count": 12,
   "metadata": {},
   "outputs": [],
   "source": [
    "#Regulary Expretions\n",
    "def remove_re(expressions):\n",
    "    tweets_cl = []\n",
    "    for exp in expressions:\n",
    "        f_expre = re.sub('@\\S+', '', exp)\n",
    "        s_expre = re.sub('https\\S+', '', f_expre)\n",
    "        final_expre = s_expre.lower().replace('.', '').replace(',', '').replace('-','').replace('\\n', '').replace(')','').replace('(','').replace('#', '').replace('!', '').replace('?', '').replace(';', '').replace('[', '').replace(']', '').replace('00', '').replace('03', '').replace('livro', '')\n",
    "        tweets_cl.append(final_expre)\n",
    "    return(tweets_cl)\n",
    "\n",
    "df_list = list(df.text)\n",
    "tweets_cl = remove_re(df_list)\n",
    "#tweets_cl"
   ]
  },
  {
   "cell_type": "code",
   "execution_count": 13,
   "metadata": {},
   "outputs": [],
   "source": [
    "#Tokenize\n",
    "word_tokens = []\n",
    "for tk in tweets_cl:\n",
    "    #print(word_tokenize(tk, language='portuguese'))\n",
    "    word_tokens.append(word_tokenize(tk, language='portuguese'))"
   ]
  },
  {
   "cell_type": "code",
   "execution_count": 14,
   "metadata": {},
   "outputs": [],
   "source": [
    "#Stopwords\n",
    "stopwords = set(nltk.corpus.stopwords.words('portuguese'))\n",
    "token_filter = []\n",
    "for wt in word_tokens:\n",
    "    for wtk in wt:\n",
    "        if wtk not in stopwords:\n",
    "            token_filter.append(wtk)"
   ]
  },
  {
   "cell_type": "code",
   "execution_count": 15,
   "metadata": {},
   "outputs": [],
   "source": [
    "#Vectorizer\n",
    "from sklearn.feature_extraction.text import CountVectorizer\n",
    "vect = CountVectorizer(analyzer='word',ngram_range=(1, 2), max_df=1.0, min_df=1, max_features=None)\n",
    "count_train = vect.fit(token_filter)\n",
    "bag_of_words  = vect.transform(token_filter)"
   ]
  },
  {
   "cell_type": "code",
   "execution_count": 16,
   "metadata": {},
   "outputs": [],
   "source": [
    "#Idf Vectorizer\n",
    "from sklearn.feature_extraction.text import TfidfVectorizer\n",
    "\n",
    "tf = TfidfVectorizer(smooth_idf=False, sublinear_tf=False, norm=None, analyzer='word')\n",
    "txt_fitted = tf.fit(token_filter)\n",
    "txt_transformed = txt_fitted.transform(token_filter)\n",
    "#print(txt_transformed)"
   ]
  },
  {
   "cell_type": "code",
   "execution_count": 17,
   "metadata": {},
   "outputs": [],
   "source": [
    "#Classification\n",
    "idf = tf.idf_\n",
    "idfDict = dict(zip(txt_fitted.get_feature_names(), idf))\n",
    "token_weight = pd.DataFrame.from_dict(idfDict, orient='index').reset_index()\n",
    "token_weight.columns=('token','weight')\n"
   ]
  },
  {
   "cell_type": "code",
   "execution_count": 18,
   "metadata": {},
   "outputs": [
    {
     "data": {
      "text/plain": [
       "<AxesSubplot:xlabel='weight', ylabel='token'>"
      ]
     },
     "execution_count": 18,
     "metadata": {},
     "output_type": "execute_result"
    },
    {
     "data": {
      "image/png": "[encoded data removed]",
      "text/plain": [
       "<Figure size 432x288 with 1 Axes>"
      ]
     },
     "metadata": {
      "needs_background": "light"
     },
     "output_type": "display_data"
    }
   ],
   "source": [
    "import seaborn as sns\n",
    "\n",
    "#Largest\n",
    "largest = token_weight.sort_values('weight', ascending=False).nlargest(10, 'weight')\n",
    "sns.barplot(x=\"weight\", y=\"token\", data=largest,\n",
    "            label=\"Palavras chaves primárias\", color='y')"
   ]
  },
  {
   "cell_type": "code",
   "execution_count": 19,
   "metadata": {},
   "outputs": [
    {
     "data": {
      "text/plain": [
       "<AxesSubplot:xlabel='weight', ylabel='token'>"
      ]
     },
     "execution_count": 19,
     "metadata": {},
     "output_type": "execute_result"
    },
    {
     "data": {
      "image/png": "[encoded data removed]",
      "text/plain": [
       "<Figure size 432x288 with 1 Axes>"
      ]
     },
     "metadata": {
      "needs_background": "light"
     },
     "output_type": "display_data"
    }
   ],
   "source": [
    "#Smallest\n",
    "smallest = token_weight.sort_values('weight', ascending=False).nsmallest(10, 'weight')\n",
    "sns.barplot(x=\"weight\", y=\"token\", data=smallest,\n",
    "            label=\"Palavras chaves secundárias\", color='b')\n"
   ]
  }
 ],
 "metadata": {
  "celltoolbar": "Raw Cell Format",
  "kernelspec": {
   "display_name": "Python 3",
   "language": "python",
   "name": "python3"
  },
  "language_info": {
   "codemirror_mode": {
    "name": "ipython",
    "version": 3
   },
   "file_extension": ".py",
   "mimetype": "text/x-python",
   "name": "python",
   "nbconvert_exporter": "python",
   "pygments_lexer": "ipython3",
   "version": "3.8.5"
  }
 },
 "nbformat": 4,
 "nbformat_minor": 4
}
